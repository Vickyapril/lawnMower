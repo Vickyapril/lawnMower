{
 "cells": [
  {
   "cell_type": "code",
   "execution_count": null,
   "metadata": {},
   "outputs": [],
   "source": [
    "# Func to define the grid ,position current position length and breadth \n",
    "def dfs(grid,pos,curr,length,breadth):\n",
    "    x = pos[0]\n",
    "    y = pos[1]    \n",
    "    if grid[x][y]==1:\n",
    "        return None\n",
    "    elif grid[x][y] ==2:\n",
    "        return None        \n",
    "       \n",
    "   \n",
    "    if y+1 < width and last != 'LEFT':        \n",
    "        curr.append('RIGHT')\n",
    "        dfs2(grid,(x,y+1),curr,length,breadth)\n",
    "        curr.pop()\n",
    "    if x+1 < height and last != 'Forward':\n",
    "        curr.append('Forward')\n",
    "        dfs2(grid,(x+1,y),curr,length,breadth)\n",
    "        curr.pop()\n",
    "    if y-1>=0 and last != 'RIGHT':\n",
    "        curr.append('LEFT')\n",
    "        dfs2(grid,(x,y-1),curr,length,breadth)\n",
    "        curr.pop()\n"
   ]
  },
  {
   "cell_type": "code",
   "execution_count": null,
   "metadata": {},
   "outputs": [],
   "source": [
    "#Direction Vectors\n",
    "#TO define the directions for north,south,east and west\n",
    "\n",
    "dir_row = [-1,+1,0,0]\n",
    "dir_col = [0,0,+1,-1]\n",
    "\n",
    "#since we have four directions we loop through each positions\n",
    "\n",
    "for(i=0; i<4;i++):\n",
    "    new_r = r + dir_row[i]\n",
    "    new_c = c + dir_col[i]\n",
    "\n",
    "# To move the lawnmower with in the grid \n",
    "    if new_r < 0 or new_c <0 :\n",
    "        continue"
   ]
  },
  {
   "cell_type": "code",
   "execution_count": 3,
   "metadata": {},
   "outputs": [],
   "source": [
    "# to avoid collision of the mower\n",
    "def overlaps(self, other):\n",
    "    return (self.right > other.left and self.left < other.right)\n"
   ]
  },
  {
   "cell_type": "code",
   "execution_count": null,
   "metadata": {},
   "outputs": [],
   "source": [
    "def dfs(self, grid, i, j):\n",
    "    if i<0 or j<0 or i>=len(grid) or j>=len(grid[0]) or grid[i][j] != '1':\n",
    "        return\n",
    "    grid[i][j] = '#'\n",
    "    self.dfs(grid, i+1, j)\n",
    "    self.dfs(grid, i-1, j)\n",
    "    self.dfs(grid, i, j+1)\n",
    "    self.dfs(grid, i, j-1)"
   ]
  },
  {
   "cell_type": "code",
   "execution_count": 6,
   "metadata": {},
   "outputs": [],
   "source": []
  },
  {
   "cell_type": "code",
   "execution_count": null,
   "metadata": {},
   "outputs": [],
   "source": []
  }
 ],
 "metadata": {
  "kernelspec": {
   "display_name": "Python 3",
   "language": "python",
   "name": "python3"
  },
  "language_info": {
   "codemirror_mode": {
    "name": "ipython",
    "version": 3
   },
   "file_extension": ".py",
   "mimetype": "text/x-python",
   "name": "python",
   "nbconvert_exporter": "python",
   "pygments_lexer": "ipython3",
   "version": "3.6.4"
  }
 },
 "nbformat": 4,
 "nbformat_minor": 2
}
